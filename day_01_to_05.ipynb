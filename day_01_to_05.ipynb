{
 "cells": [
  {
   "cell_type": "markdown",
   "metadata": {},
   "source": [
    "1) Given an arrey of integers and an integer target, return indices of two numbers such that they add up to target."
   ]
  },
  {
   "cell_type": "code",
   "execution_count": 120,
   "metadata": {},
   "outputs": [],
   "source": [
    "def get_number(lists:list,target:float):\n",
    "    # get the list of number in the given list which are less than the target\n",
    "    # we don't take into account 0+ target == target\n",
    "    lesslist = [x for x in lists if  x < target ]\n",
    "    # on this find those who can be added two by to to give the target\n",
    "    matched = []\n",
    "    for elmt in lesslist:\n",
    "        complement = [x for x in lesslist if x+elmt==target][0]\n",
    "        matched.append((elmt,complement))\n",
    "    # on the elements which added give the target, we take just the first match\n",
    "    first_matched = matched[0]\n",
    "    # then we check the indexe in the given list \n",
    "    sol = (lists.index(first_matched[0]),lists.index(first_matched[1]))\n",
    "    return (sol)"
   ]
  },
  {
   "cell_type": "markdown",
   "metadata": {},
   "source": [
    "Test"
   ]
  },
  {
   "cell_type": "code",
   "execution_count": 121,
   "metadata": {},
   "outputs": [
    {
     "name": "stdout",
     "output_type": "stream",
     "text": [
      "(0, 5)\n"
     ]
    }
   ],
   "source": [
    "# test with a short list \n",
    "A = [1,2,1,3,4,5,6,7]\n",
    "print(get_number(A,6))"
   ]
  },
  {
   "cell_type": "code",
   "execution_count": null,
   "metadata": {},
   "outputs": [],
   "source": []
  },
  {
   "cell_type": "markdown",
   "metadata": {},
   "source": [
    "2) Given an intger array num, find the sum array with the largest sum and return ist sum.  "
   ]
  },
  {
   "cell_type": "code",
   "execution_count": 122,
   "metadata": {},
   "outputs": [],
   "source": [
    "def largest_sum(nums:list):\n",
    "    \"\"\"\n",
    "        a function to find the sum array with the largest sum and return ist sum\n",
    "        arg:list nums\n",
    "        return:float summ \n",
    "    \"\"\"\n",
    "    nums.remove(min(nums))\n",
    "    summ:float = sum(nums)\n",
    "    return summ"
   ]
  },
  {
   "cell_type": "markdown",
   "metadata": {},
   "source": [
    "Test"
   ]
  },
  {
   "cell_type": "code",
   "execution_count": 123,
   "metadata": {},
   "outputs": [
    {
     "data": {
      "text/plain": [
       "28"
      ]
     },
     "execution_count": 123,
     "metadata": {},
     "output_type": "execute_result"
    }
   ],
   "source": [
    "largest_sum(A)"
   ]
  },
  {
   "cell_type": "code",
   "execution_count": null,
   "metadata": {},
   "outputs": [],
   "source": []
  },
  {
   "cell_type": "markdown",
   "metadata": {},
   "source": [
    "3) Given an array nums with n objects \"color\"ed red , white and blue, sort them inplace so that objects of the same \"color\" are adjacent with the \"color\"s in the order red,with and blue.  "
   ]
  },
  {
   "cell_type": "code",
   "execution_count": 124,
   "metadata": {},
   "outputs": [],
   "source": [
    "# we asume that object are dic with the first element of a chosen type\n",
    "# and the second element the \"color\" of the object\n",
    "\n",
    "def sort_by_color(lists_objects:list):\n",
    "    \"\"\"\n",
    "        a method to sort object in a list by their key color\n",
    "        arg:list list_objects\n",
    "        return:list sorted_list\n",
    "    \"\"\"\n",
    "    sorted_list:list = []\n",
    "    blues = [x for x in lists_objects if x[\"color\"] == \"blue\"]\n",
    "    reds = [x for x in lists_objects if x[\"color\"] == \"red\"]\n",
    "    whites = [x for x in lists_objects if x[\"color\"] == \"white\"]\n",
    "    sorted_list +=blues+whites+reds\n",
    "\n",
    "    return sorted_list"
   ]
  },
  {
   "cell_type": "markdown",
   "metadata": {},
   "source": [
    "Test"
   ]
  },
  {
   "cell_type": "code",
   "execution_count": 32,
   "metadata": {},
   "outputs": [
    {
     "name": "stdout",
     "output_type": "stream",
     "text": [
      "[{'obj': 1, 'color': 'blue'}, {'obj': 2, 'color': 'red'}, {'obj': 3, 'color': 'red'}, {'obj': 4, 'color': 'white'}, {'obj': 5, 'color': 'blue'}] \n",
      "\n",
      "[{'obj': 1, 'color': 'blue'}, {'obj': 5, 'color': 'blue'}, {'obj': 4, 'color': 'white'}, {'obj': 2, 'color': 'red'}, {'obj': 3, 'color': 'red'}]\n"
     ]
    }
   ],
   "source": [
    "# we construct a list of object B\n",
    "B = [{\"obj\":1,\"color\":\"blue\"},{\"obj\":2,\"color\":\"red\"},{\"obj\":3,\"color\":\"red\"},{\"obj\":4,\"color\":\"white\"},{\"obj\":5,\"color\":\"blue\"}]\n",
    "# we print the listbefore sorting\n",
    "print(B,\"\\n\")\n",
    "\n",
    "# we print the sorted list\n",
    "print(sort_by_color(B))"
   ]
  },
  {
   "cell_type": "code",
   "execution_count": null,
   "metadata": {},
   "outputs": [],
   "source": []
  },
  {
   "cell_type": "code",
   "execution_count": 116,
   "metadata": {},
   "outputs": [],
   "source": [
    "def unique_adds(nums:list,target:float):\n",
    "    \"\"\"\n",
    "        function to get the list of diffrent combination of values such that add together give a target\n",
    "        args: \n",
    "            nums:list the list of numbers\n",
    "            target:numerical the value which is give by the sommation of a sublist\n",
    "        return:\n",
    "            list_uniques:list the list of quaduplets\n",
    "            message_on_length:str a comment on the len of the returned list    \n",
    "    \"\"\"\n",
    "    \n",
    "    list_uniques:list = []\n",
    "    for i in (range(len(nums)-4)):\n",
    "        for j in range(i+1,(len(nums)-3)):\n",
    "            for k in range(j+1,(len(nums)-2)):\n",
    "                matched = [[i,j,k,l] for l in range(k+1,(len(nums)-1)) if nums[i]+nums[j]+nums[k]+nums[l]==target]\n",
    "                list_uniques += matched\n",
    "    \n",
    "    message_on_length:str = f\"this list have {len(list_uniques)} quaduplets\"\n",
    "    return (list_uniques,message_on_length)"
   ]
  },
  {
   "cell_type": "markdown",
   "metadata": {},
   "source": [
    "Test"
   ]
  },
  {
   "cell_type": "code",
   "execution_count": 117,
   "metadata": {},
   "outputs": [
    {
     "data": {
      "text/plain": [
       "([[0, 1, 2, 19],\n",
       "  [0, 1, 3, 18],\n",
       "  [0, 1, 4, 17],\n",
       "  [0, 1, 5, 12],\n",
       "  [0, 1, 7, 22],\n",
       "  [0, 1, 8, 10],\n",
       "  [0, 1, 11, 20],\n",
       "  [0, 1, 14, 17],\n",
       "  [0, 2, 3, 18],\n",
       "  [0, 2, 4, 17],\n",
       "  [0, 2, 5, 12],\n",
       "  [0, 2, 7, 22],\n",
       "  [0, 2, 8, 10],\n",
       "  [0, 2, 11, 20],\n",
       "  [0, 2, 14, 17],\n",
       "  [0, 3, 4, 12],\n",
       "  [0, 3, 6, 22],\n",
       "  [0, 3, 7, 10],\n",
       "  [0, 3, 8, 9],\n",
       "  [0, 3, 11, 19],\n",
       "  [0, 3, 12, 14],\n",
       "  [0, 4, 5, 22],\n",
       "  [0, 4, 6, 10],\n",
       "  [0, 4, 7, 9],\n",
       "  [0, 4, 11, 18],\n",
       "  [0, 5, 6, 9],\n",
       "  [0, 5, 7, 8],\n",
       "  [0, 5, 11, 17],\n",
       "  [0, 5, 14, 22],\n",
       "  [0, 6, 10, 14],\n",
       "  [0, 6, 11, 12],\n",
       "  [0, 7, 9, 14],\n",
       "  [0, 8, 11, 22],\n",
       "  [0, 9, 10, 11],\n",
       "  [0, 11, 14, 18],\n",
       "  [1, 2, 3, 18],\n",
       "  [1, 2, 4, 17],\n",
       "  [1, 2, 5, 12],\n",
       "  [1, 2, 7, 22],\n",
       "  [1, 2, 8, 10],\n",
       "  [1, 2, 11, 20],\n",
       "  [1, 2, 14, 17],\n",
       "  [1, 3, 4, 12],\n",
       "  [1, 3, 6, 22],\n",
       "  [1, 3, 7, 10],\n",
       "  [1, 3, 8, 9],\n",
       "  [1, 3, 11, 19],\n",
       "  [1, 3, 12, 14],\n",
       "  [1, 4, 5, 22],\n",
       "  [1, 4, 6, 10],\n",
       "  [1, 4, 7, 9],\n",
       "  [1, 4, 11, 18],\n",
       "  [1, 5, 6, 9],\n",
       "  [1, 5, 7, 8],\n",
       "  [1, 5, 11, 17],\n",
       "  [1, 5, 14, 22],\n",
       "  [1, 6, 10, 14],\n",
       "  [1, 6, 11, 12],\n",
       "  [1, 7, 9, 14],\n",
       "  [1, 8, 11, 22],\n",
       "  [1, 9, 10, 11],\n",
       "  [1, 11, 14, 18],\n",
       "  [2, 3, 4, 12],\n",
       "  [2, 3, 6, 22],\n",
       "  [2, 3, 7, 10],\n",
       "  [2, 3, 8, 9],\n",
       "  [2, 3, 11, 19],\n",
       "  [2, 3, 12, 14],\n",
       "  [2, 4, 5, 22],\n",
       "  [2, 4, 6, 10],\n",
       "  [2, 4, 7, 9],\n",
       "  [2, 4, 11, 18],\n",
       "  [2, 5, 6, 9],\n",
       "  [2, 5, 7, 8],\n",
       "  [2, 5, 11, 17],\n",
       "  [2, 5, 14, 22],\n",
       "  [2, 6, 10, 14],\n",
       "  [2, 6, 11, 12],\n",
       "  [2, 7, 9, 14],\n",
       "  [2, 8, 11, 22],\n",
       "  [2, 9, 10, 11],\n",
       "  [2, 11, 14, 18],\n",
       "  [3, 4, 5, 10],\n",
       "  [3, 4, 6, 9],\n",
       "  [3, 4, 7, 8],\n",
       "  [3, 4, 11, 17],\n",
       "  [3, 4, 14, 22],\n",
       "  [3, 5, 6, 8],\n",
       "  [3, 5, 10, 14],\n",
       "  [3, 5, 11, 12],\n",
       "  [3, 6, 9, 14],\n",
       "  [3, 7, 8, 14],\n",
       "  [3, 7, 11, 22],\n",
       "  [3, 8, 10, 11],\n",
       "  [3, 11, 14, 17],\n",
       "  [4, 5, 6, 7],\n",
       "  [4, 5, 9, 14],\n",
       "  [4, 6, 8, 14],\n",
       "  [4, 6, 11, 22],\n",
       "  [4, 7, 10, 11],\n",
       "  [4, 8, 9, 11],\n",
       "  [4, 11, 12, 14],\n",
       "  [5, 6, 7, 14],\n",
       "  [5, 6, 10, 11],\n",
       "  [5, 7, 9, 11],\n",
       "  [6, 7, 8, 11],\n",
       "  [6, 11, 14, 22],\n",
       "  [7, 10, 11, 14],\n",
       "  [8, 9, 11, 14]],\n",
       " 'this list have 109 quaduplets')"
      ]
     },
     "execution_count": 117,
     "metadata": {},
     "output_type": "execute_result"
    }
   ],
   "source": [
    "a =[1,1,1,2,3,4,5,6,7,8,9,0,12,21,3,32,25,13,14,15,16,17,10,4]\n",
    "unique_adds(a,18)"
   ]
  },
  {
   "cell_type": "code",
   "execution_count": null,
   "metadata": {},
   "outputs": [],
   "source": []
  },
  {
   "cell_type": "markdown",
   "metadata": {},
   "source": [
    "5) Given an array of interval where interval[i] = [starti,endi] merge all overlaping intervals and \\\n",
    "return an array of the non-overlaping intervals that cover all the intervals in the input."
   ]
  },
  {
   "cell_type": "code",
   "execution_count": 112,
   "metadata": {},
   "outputs": [],
   "source": [
    "def merge_interval(list_of_intervals:list):\n",
    "    \"\"\"\n",
    "        a function to merge all overlaping intervals in a list of intervals\n",
    "        arg: \"list_of_intervals\" the given list of intervals\n",
    "        return: \"merged_list\" the list of merged interval \n",
    "    \"\"\"\n",
    "    list_merged:list = []\n",
    "    starts = ends = []\n",
    "    for interval in list_of_intervals:\n",
    "        overlapeds = [inter for inter in list_of_intervals \n",
    "                      if((inter[0]>=interval[0])and(inter[0]<=interval[1]))\n",
    "                      or((inter[1]>=interval[0])and(inter[1]<=interval[1]))]\n",
    "        \n",
    "        for inter in overlapeds:\n",
    "            starts.append(inter[0])\n",
    "            ends.append(inter[1])\n",
    "\n",
    "        list_of_intervals.remove(inter)\n",
    "        list_of_intervals.remove(interval)\n",
    "\n",
    "        list_merged.append([min(starts),max(ends)])\n",
    "        starts=ends=[]\n",
    "\n",
    "    list_merged += list_of_intervals\n",
    "    return list_merged"
   ]
  },
  {
   "cell_type": "code",
   "execution_count": 113,
   "metadata": {},
   "outputs": [
    {
     "name": "stdout",
     "output_type": "stream",
     "text": [
      "[[1, 15], [16, 18]]\n"
     ]
    }
   ],
   "source": [
    "intervals = [[1,14],[2,15],[16,18],]\n",
    "print(merge_interval(intervals))"
   ]
  },
  {
   "cell_type": "code",
   "execution_count": null,
   "metadata": {},
   "outputs": [],
   "source": []
  },
  {
   "cell_type": "markdown",
   "metadata": {},
   "source": [
    "6) Given a string s of '(',')' and lowercase English characters.Your tasks is to remove the minimum  \n",
    "number of parentheses ('(' or ')\" in any position) so that the resulting parentheses string is valid  \n",
    "and return a valid string."
   ]
  },
  {
   "cell_type": "code",
   "execution_count": 133,
   "metadata": {},
   "outputs": [],
   "source": [
    "def positions(string:str,char:str):\n",
    "    \"\"\"\n",
    "    a function to get the index of a occurences of a given character in a given string\n",
    "    arg: \n",
    "        string:str the given string\n",
    "        char: the given character\n",
    "    return:\n",
    "        indexes:list the list that contain all the indexes of the occurence of char in string \n",
    "    \"\"\"\n",
    "    indexes:list = []\n",
    "    for i in range(len(string)):\n",
    "        if string[i] == char:\n",
    "            indexes.append(i)\n",
    "    return indexes\n",
    "\n",
    "def remove_parentheses(string:str):\n",
    "    valid_string:str = \"\"\n",
    "    position_of_open_parentheses = positions(string=string,char=\"(\")\n",
    "    position_of_close_parentheses = positions(string=string,char=\")\")\n",
    "    \n",
    "    return valid_string"
   ]
  },
  {
   "cell_type": "code",
   "execution_count": 135,
   "metadata": {},
   "outputs": [
    {
     "data": {
      "text/plain": [
       "[18]"
      ]
     },
     "execution_count": 135,
     "metadata": {},
     "output_type": "execute_result"
    }
   ],
   "source": [
    "chaine = \"(bonjour le (monde)\"\n",
    "positions(chaine,char=\")\")"
   ]
  },
  {
   "cell_type": "code",
   "execution_count": null,
   "metadata": {},
   "outputs": [],
   "source": []
  }
 ],
 "metadata": {
  "kernelspec": {
   "display_name": "Data_prep_pro_env",
   "language": "python",
   "name": "python3"
  },
  "language_info": {
   "codemirror_mode": {
    "name": "ipython",
    "version": 3
   },
   "file_extension": ".py",
   "mimetype": "text/x-python",
   "name": "python",
   "nbconvert_exporter": "python",
   "pygments_lexer": "ipython3",
   "version": "3.12.5"
  }
 },
 "nbformat": 4,
 "nbformat_minor": 2
}
