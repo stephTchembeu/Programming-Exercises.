{
 "cells": [
  {
   "cell_type": "markdown",
   "metadata": {},
   "source": [
    "1) Given an arrey of integers and an integer target, return indices of two numbers such that they add up to target."
   ]
  },
  {
   "cell_type": "code",
   "execution_count": 120,
   "metadata": {},
   "outputs": [],
   "source": [
    "def get_number(lists:list,target:float):\n",
    "    # get the list of number in the given list which are less than the target\n",
    "    # we don't take into account 0+ target == target\n",
    "    lesslist = [x for x in lists if  x < target ]\n",
    "    # on this find those who can be added two by to to give the target\n",
    "    matched = []\n",
    "    for elmt in lesslist:\n",
    "        complement = [x for x in lesslist if x+elmt==target][0]\n",
    "        matched.append((elmt,complement))\n",
    "    # on the elements which added give the target, we take just the first match\n",
    "    first_matched = matched[0]\n",
    "    # then we check the indexe in the given list \n",
    "    sol = (lists.index(first_matched[0]),lists.index(first_matched[1]))\n",
    "    return (sol)"
   ]
  },
  {
   "cell_type": "markdown",
   "metadata": {},
   "source": [
    "Test"
   ]
  },
  {
   "cell_type": "code",
   "execution_count": 121,
   "metadata": {},
   "outputs": [
    {
     "name": "stdout",
     "output_type": "stream",
     "text": [
      "(0, 5)\n"
     ]
    }
   ],
   "source": [
    "# test with a short list \n",
    "A = [1,2,1,3,4,5,6,7]\n",
    "print(get_number(A,6))"
   ]
  },
  {
   "cell_type": "code",
   "execution_count": null,
   "metadata": {},
   "outputs": [],
   "source": []
  },
  {
   "cell_type": "markdown",
   "metadata": {},
   "source": [
    "2) Given an intger array num, find the sum array with the largest sum and return ist sum.  "
   ]
  },
  {
   "cell_type": "code",
   "execution_count": 122,
   "metadata": {},
   "outputs": [],
   "source": [
    "def largest_sum(nums:list):\n",
    "    \"\"\"\n",
    "        a function to find the sum array with the largest sum and return ist sum\n",
    "        arg:list nums\n",
    "        return:float summ \n",
    "    \"\"\"\n",
    "    nums.remove(min(nums))\n",
    "    summ:float = sum(nums)\n",
    "    return summ"
   ]
  },
  {
   "cell_type": "markdown",
   "metadata": {},
   "source": [
    "Test"
   ]
  },
  {
   "cell_type": "code",
   "execution_count": 123,
   "metadata": {},
   "outputs": [
    {
     "data": {
      "text/plain": [
       "28"
      ]
     },
     "execution_count": 123,
     "metadata": {},
     "output_type": "execute_result"
    }
   ],
   "source": [
    "largest_sum(A)"
   ]
  },
  {
   "cell_type": "code",
   "execution_count": null,
   "metadata": {},
   "outputs": [],
   "source": []
  },
  {
   "cell_type": "markdown",
   "metadata": {},
   "source": [
    "3) Given an array nums with n objects \"color\"ed red , white and blue, sort them inplace so that objects of the same \"color\" are adjacent with the \"color\"s in the order red,with and blue.  "
   ]
  },
  {
   "cell_type": "code",
   "execution_count": 124,
   "metadata": {},
   "outputs": [],
   "source": [
    "# we asume that object are dic with the first element of a chosen type\n",
    "# and the second element the \"color\" of the object\n",
    "\n",
    "def sort_by_color(lists_objects:list):\n",
    "    \"\"\"\n",
    "        a method to sort object in a list by their key color\n",
    "        arg:list list_objects\n",
    "        return:list sorted_list\n",
    "    \"\"\"\n",
    "    sorted_list:list = []\n",
    "    blues = [x for x in lists_objects if x[\"color\"] == \"blue\"]\n",
    "    reds = [x for x in lists_objects if x[\"color\"] == \"red\"]\n",
    "    whites = [x for x in lists_objects if x[\"color\"] == \"white\"]\n",
    "    sorted_list +=blues+whites+reds\n",
    "\n",
    "    return sorted_list"
   ]
  },
  {
   "cell_type": "markdown",
   "metadata": {},
   "source": [
    "Test"
   ]
  },
  {
   "cell_type": "code",
   "execution_count": 32,
   "metadata": {},
   "outputs": [
    {
     "name": "stdout",
     "output_type": "stream",
     "text": [
      "[{'obj': 1, 'color': 'blue'}, {'obj': 2, 'color': 'red'}, {'obj': 3, 'color': 'red'}, {'obj': 4, 'color': 'white'}, {'obj': 5, 'color': 'blue'}] \n",
      "\n",
      "[{'obj': 1, 'color': 'blue'}, {'obj': 5, 'color': 'blue'}, {'obj': 4, 'color': 'white'}, {'obj': 2, 'color': 'red'}, {'obj': 3, 'color': 'red'}]\n"
     ]
    }
   ],
   "source": [
    "# we construct a list of object B\n",
    "B = [{\"obj\":1,\"color\":\"blue\"},{\"obj\":2,\"color\":\"red\"},{\"obj\":3,\"color\":\"red\"},{\"obj\":4,\"color\":\"white\"},{\"obj\":5,\"color\":\"blue\"}]\n",
    "# we print the listbefore sorting\n",
    "print(B,\"\\n\")\n",
    "\n",
    "# we print the sorted list\n",
    "print(sort_by_color(B))"
   ]
  },
  {
   "cell_type": "code",
   "execution_count": null,
   "metadata": {},
   "outputs": [],
   "source": []
  },
  {
   "cell_type": "code",
   "execution_count": 116,
   "metadata": {},
   "outputs": [],
   "source": [
    "def unique_adds(nums:list,target:float):\n",
    "    \"\"\"\n",
    "        function to get the list of diffrent combination of values such that add together give a target\n",
    "        args: \n",
    "            nums:list the list of numbers\n",
    "            target:numerical the value which is give by the sommation of a sublist\n",
    "        return:\n",
    "            list_uniques:list the list of quaduplets\n",
    "            message_on_length:str a comment on the len of the returned list    \n",
    "    \"\"\"\n",
    "    \n",
    "    list_uniques:list = []\n",
    "    for i in (range(len(nums)-4)):\n",
    "        for j in range(i+1,(len(nums)-3)):\n",
    "            for k in range(j+1,(len(nums)-2)):\n",
    "                matched = [[i,j,k,l] for l in range(k+1,(len(nums)-1)) if nums[i]+nums[j]+nums[k]+nums[l]==target]\n",
    "                list_uniques += matched\n",
    "    \n",
    "    message_on_length:str = f\"this list have {len(list_uniques)} quaduplets\"\n",
    "    return (list_uniques,message_on_length)"
   ]
  },
  {
   "cell_type": "markdown",
   "metadata": {},
   "source": [
    "Test"
   ]
  },
  {
   "cell_type": "code",
   "execution_count": 117,
   "metadata": {},
   "outputs": [
    {
     "data": {
      "text/plain": [
       "([[0, 1, 2, 19],\n",
       "  [0, 1, 3, 18],\n",
       "  [0, 1, 4, 17],\n",
       "  [0, 1, 5, 12],\n",
       "  [0, 1, 7, 22],\n",
       "  [0, 1, 8, 10],\n",
       "  [0, 1, 11, 20],\n",
       "  [0, 1, 14, 17],\n",
       "  [0, 2, 3, 18],\n",
       "  [0, 2, 4, 17],\n",
       "  [0, 2, 5, 12],\n",
       "  [0, 2, 7, 22],\n",
       "  [0, 2, 8, 10],\n",
       "  [0, 2, 11, 20],\n",
       "  [0, 2, 14, 17],\n",
       "  [0, 3, 4, 12],\n",
       "  [0, 3, 6, 22],\n",
       "  [0, 3, 7, 10],\n",
       "  [0, 3, 8, 9],\n",
       "  [0, 3, 11, 19],\n",
       "  [0, 3, 12, 14],\n",
       "  [0, 4, 5, 22],\n",
       "  [0, 4, 6, 10],\n",
       "  [0, 4, 7, 9],\n",
       "  [0, 4, 11, 18],\n",
       "  [0, 5, 6, 9],\n",
       "  [0, 5, 7, 8],\n",
       "  [0, 5, 11, 17],\n",
       "  [0, 5, 14, 22],\n",
       "  [0, 6, 10, 14],\n",
       "  [0, 6, 11, 12],\n",
       "  [0, 7, 9, 14],\n",
       "  [0, 8, 11, 22],\n",
       "  [0, 9, 10, 11],\n",
       "  [0, 11, 14, 18],\n",
       "  [1, 2, 3, 18],\n",
       "  [1, 2, 4, 17],\n",
       "  [1, 2, 5, 12],\n",
       "  [1, 2, 7, 22],\n",
       "  [1, 2, 8, 10],\n",
       "  [1, 2, 11, 20],\n",
       "  [1, 2, 14, 17],\n",
       "  [1, 3, 4, 12],\n",
       "  [1, 3, 6, 22],\n",
       "  [1, 3, 7, 10],\n",
       "  [1, 3, 8, 9],\n",
       "  [1, 3, 11, 19],\n",
       "  [1, 3, 12, 14],\n",
       "  [1, 4, 5, 22],\n",
       "  [1, 4, 6, 10],\n",
       "  [1, 4, 7, 9],\n",
       "  [1, 4, 11, 18],\n",
       "  [1, 5, 6, 9],\n",
       "  [1, 5, 7, 8],\n",
       "  [1, 5, 11, 17],\n",
       "  [1, 5, 14, 22],\n",
       "  [1, 6, 10, 14],\n",
       "  [1, 6, 11, 12],\n",
       "  [1, 7, 9, 14],\n",
       "  [1, 8, 11, 22],\n",
       "  [1, 9, 10, 11],\n",
       "  [1, 11, 14, 18],\n",
       "  [2, 3, 4, 12],\n",
       "  [2, 3, 6, 22],\n",
       "  [2, 3, 7, 10],\n",
       "  [2, 3, 8, 9],\n",
       "  [2, 3, 11, 19],\n",
       "  [2, 3, 12, 14],\n",
       "  [2, 4, 5, 22],\n",
       "  [2, 4, 6, 10],\n",
       "  [2, 4, 7, 9],\n",
       "  [2, 4, 11, 18],\n",
       "  [2, 5, 6, 9],\n",
       "  [2, 5, 7, 8],\n",
       "  [2, 5, 11, 17],\n",
       "  [2, 5, 14, 22],\n",
       "  [2, 6, 10, 14],\n",
       "  [2, 6, 11, 12],\n",
       "  [2, 7, 9, 14],\n",
       "  [2, 8, 11, 22],\n",
       "  [2, 9, 10, 11],\n",
       "  [2, 11, 14, 18],\n",
       "  [3, 4, 5, 10],\n",
       "  [3, 4, 6, 9],\n",
       "  [3, 4, 7, 8],\n",
       "  [3, 4, 11, 17],\n",
       "  [3, 4, 14, 22],\n",
       "  [3, 5, 6, 8],\n",
       "  [3, 5, 10, 14],\n",
       "  [3, 5, 11, 12],\n",
       "  [3, 6, 9, 14],\n",
       "  [3, 7, 8, 14],\n",
       "  [3, 7, 11, 22],\n",
       "  [3, 8, 10, 11],\n",
       "  [3, 11, 14, 17],\n",
       "  [4, 5, 6, 7],\n",
       "  [4, 5, 9, 14],\n",
       "  [4, 6, 8, 14],\n",
       "  [4, 6, 11, 22],\n",
       "  [4, 7, 10, 11],\n",
       "  [4, 8, 9, 11],\n",
       "  [4, 11, 12, 14],\n",
       "  [5, 6, 7, 14],\n",
       "  [5, 6, 10, 11],\n",
       "  [5, 7, 9, 11],\n",
       "  [6, 7, 8, 11],\n",
       "  [6, 11, 14, 22],\n",
       "  [7, 10, 11, 14],\n",
       "  [8, 9, 11, 14]],\n",
       " 'this list have 109 quaduplets')"
      ]
     },
     "execution_count": 117,
     "metadata": {},
     "output_type": "execute_result"
    }
   ],
   "source": [
    "a =[1,1,1,2,3,4,5,6,7,8,9,0,12,21,3,32,25,13,14,15,16,17,10,4]\n",
    "unique_adds(a,18)"
   ]
  },
  {
   "cell_type": "code",
   "execution_count": null,
   "metadata": {},
   "outputs": [],
   "source": []
  },
  {
   "cell_type": "markdown",
   "metadata": {},
   "source": [
    "5) Given an array of interval where interval[i] = [starti,endi] merge all overlaping intervals and \\\n",
    "return an array of the non-overlaping intervals that cover all the intervals in the input."
   ]
  },
  {
   "cell_type": "code",
   "execution_count": 112,
   "metadata": {},
   "outputs": [],
   "source": [
    "def merge_interval(list_of_intervals:list):\n",
    "    \"\"\"\n",
    "        a function to merge all overlaping intervals in a list of intervals\n",
    "        arg: \"list_of_intervals\" the given list of intervals\n",
    "        return: \"merged_list\" the list of merged interval \n",
    "    \"\"\"\n",
    "    list_merged:list = []\n",
    "    starts = ends = []\n",
    "    for interval in list_of_intervals:\n",
    "        overlapeds = [inter for inter in list_of_intervals \n",
    "                      if((inter[0]>=interval[0])and(inter[0]<=interval[1]))\n",
    "                      or((inter[1]>=interval[0])and(inter[1]<=interval[1]))]\n",
    "        \n",
    "        for inter in overlapeds:\n",
    "            starts.append(inter[0])\n",
    "            ends.append(inter[1])\n",
    "\n",
    "        list_of_intervals.remove(inter)\n",
    "        list_of_intervals.remove(interval)\n",
    "\n",
    "        list_merged.append([min(starts),max(ends)])\n",
    "        starts=ends=[]\n",
    "\n",
    "    list_merged += list_of_intervals\n",
    "    return list_merged"
   ]
  },
  {
   "cell_type": "code",
   "execution_count": 113,
   "metadata": {},
   "outputs": [
    {
     "name": "stdout",
     "output_type": "stream",
     "text": [
      "[[1, 15], [16, 18]]\n"
     ]
    }
   ],
   "source": [
    "intervals = [[1,14],[2,15],[16,18],]\n",
    "print(merge_interval(intervals))"
   ]
  },
  {
   "cell_type": "code",
   "execution_count": null,
   "metadata": {},
   "outputs": [],
   "source": []
  },
  {
   "cell_type": "markdown",
   "metadata": {},
   "source": [
    "6) Given a string s of '(',')' and lowercase English characters.Your tasks is to remove the minimum  \n",
    "number of parentheses ('(' or ')\" in any position) so that the resulting parentheses string is valid  \n",
    "and return a valid string."
   ]
  },
  {
   "cell_type": "code",
   "execution_count": 180,
   "metadata": {},
   "outputs": [],
   "source": [
    "def remove_char_at_index( index_char:int,string:str):\n",
    "    \"\"\"\n",
    "        a function to remove a char at a given position in a string\n",
    "        args:\n",
    "            index_char: the given position where we want to remove a char\n",
    "            string: the given string\n",
    "    \"\"\"\n",
    "    newstring:str = string[0:index_char] +  string[index_char+1:]\n",
    "    return newstring\n",
    "\n",
    "def good_format_parenth(string:str):\n",
    "    count_parenths:int = 0 # our variable which count at each moment the number of parentheses open\n",
    "    open_indexes:list = [] # use to store the indexes of previous open parentheses\n",
    "    good_string:str = string # the variable which contain the good form of the string\n",
    "    i:int = 0 # the variable which aim us to go over the chars in the string\n",
    "    remove:bool = False # The variable which tel us if we have remove a parenthese or not\n",
    "    while i < len(string): # we go over all the char in the given string\n",
    "        \n",
    "        if string[i] == \"(\": # if the encounter char is an open parenthese \n",
    "            remove = False # we don't remove any thing\n",
    "            count_parenths += 1 # we add the number of open parentheses encounter\n",
    "            open_indexes.append(i) # we store the indexe\n",
    "            i +=1 # we go ahead\n",
    "\n",
    "        elif string[i] == \")\": # if the char open is a close one\n",
    "            count_parenths -= 1 # we decrease the number of open  \n",
    "            if count_parenths < 0: # we check either if the previous decrementation do not means a tuple of parentheses\n",
    "                count_parenths += 1 # we incremente the number of open to send them to zero\n",
    "                string = remove_char_at_index(i,string) # if it is not a close braket which close an open one we remove it in the string\n",
    "                remove = True # we mention that we have remove \n",
    "            if remove == False:    \n",
    "                i += 1 # if we have encounter a parenthese which close an open one we just skip it by going to the next character\n",
    "\n",
    "        else:\n",
    "            i+=1 # if the character encountered is not a parenthese we just go ahead\n",
    "    \n",
    "    # it can hapend that at the end of the string we have unclose bracket\n",
    "    while count_parenths > 0: # we do this remove until the number of unclose parentheseses going to 0\n",
    "        string = remove_char_at_index(open_indexes[-1],string) # we remove the last open bracket\n",
    "        open_indexes = open_indexes[0:len(open_indexes)-1] # we reduce the list of indexes\n",
    "        count_parenths -= 1 # we reduce the number of open parentheses\n",
    "\n",
    "    return string"
   ]
  },
  {
   "cell_type": "code",
   "execution_count": null,
   "metadata": {},
   "outputs": [],
   "source": []
  },
  {
   "cell_type": "markdown",
   "metadata": {},
   "source": [
    "### Test"
   ]
  },
  {
   "cell_type": "code",
   "execution_count": 179,
   "metadata": {},
   "outputs": [
    {
     "data": {
      "text/plain": [
       "'()qbq()'"
      ]
     },
     "execution_count": 179,
     "metadata": {},
     "output_type": "execute_result"
    }
   ],
   "source": [
    "chaine = \"())qbq))()\"\n",
    "good_format_parenth(chaine)"
   ]
  },
  {
   "cell_type": "code",
   "execution_count": null,
   "metadata": {},
   "outputs": [],
   "source": []
  }
 ],
 "metadata": {
  "kernelspec": {
   "display_name": "Data_prep_pro_env",
   "language": "python",
   "name": "python3"
  },
  "language_info": {
   "codemirror_mode": {
    "name": "ipython",
    "version": 3
   },
   "file_extension": ".py",
   "mimetype": "text/x-python",
   "name": "python",
   "nbconvert_exporter": "python",
   "pygments_lexer": "ipython3",
   "version": "3.12.5"
  }
 },
 "nbformat": 4,
 "nbformat_minor": 2
}
